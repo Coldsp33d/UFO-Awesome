{
 "cells": [
  {
   "cell_type": "code",
   "execution_count": 1,
   "metadata": {},
   "outputs": [],
   "source": [
    "%load_ext autoreload\n",
    "%autoreload 2\n",
    "\n",
    "from utils import load_data"
   ]
  },
  {
   "cell_type": "code",
   "execution_count": 2,
   "metadata": {},
   "outputs": [
    {
     "data": {
      "text/html": [
       "<div>\n",
       "<style scoped>\n",
       "    .dataframe tbody tr th:only-of-type {\n",
       "        vertical-align: middle;\n",
       "    }\n",
       "\n",
       "    .dataframe tbody tr th {\n",
       "        vertical-align: top;\n",
       "    }\n",
       "\n",
       "    .dataframe thead th {\n",
       "        text-align: right;\n",
       "    }\n",
       "</style>\n",
       "<table border=\"1\" class=\"dataframe\">\n",
       "  <thead>\n",
       "    <tr style=\"text-align: right;\">\n",
       "      <th></th>\n",
       "      <th>sighted_at</th>\n",
       "      <th>reported_at</th>\n",
       "      <th>location</th>\n",
       "      <th>duration</th>\n",
       "      <th>shape</th>\n",
       "      <th>description</th>\n",
       "    </tr>\n",
       "  </thead>\n",
       "  <tbody>\n",
       "    <tr>\n",
       "      <th>0</th>\n",
       "      <td>1995-10-09</td>\n",
       "      <td>1995-10-09</td>\n",
       "      <td>Iowa City, IA</td>\n",
       "      <td>NaN</td>\n",
       "      <td>NaN</td>\n",
       "      <td>Man repts. witnessing &amp;quot;flash, followed by...</td>\n",
       "    </tr>\n",
       "    <tr>\n",
       "      <th>1</th>\n",
       "      <td>1995-10-10</td>\n",
       "      <td>1995-10-11</td>\n",
       "      <td>Milwaukee, WI</td>\n",
       "      <td>2 min.</td>\n",
       "      <td>NaN</td>\n",
       "      <td>Man  on Hwy 43 SW of Milwaukee sees large, bri...</td>\n",
       "    </tr>\n",
       "    <tr>\n",
       "      <th>2</th>\n",
       "      <td>1995-01-01</td>\n",
       "      <td>1995-01-03</td>\n",
       "      <td>Shelton, WA</td>\n",
       "      <td>NaN</td>\n",
       "      <td>NaN</td>\n",
       "      <td>Telephoned Report:CA woman visiting daughter w...</td>\n",
       "    </tr>\n",
       "    <tr>\n",
       "      <th>3</th>\n",
       "      <td>1995-05-10</td>\n",
       "      <td>1995-05-10</td>\n",
       "      <td>Columbia, MO</td>\n",
       "      <td>2 min.</td>\n",
       "      <td>NaN</td>\n",
       "      <td>Man repts. son&amp;apos;s bizarre sighting of smal...</td>\n",
       "    </tr>\n",
       "    <tr>\n",
       "      <th>4</th>\n",
       "      <td>1995-06-11</td>\n",
       "      <td>1995-06-14</td>\n",
       "      <td>Seattle, WA</td>\n",
       "      <td>NaN</td>\n",
       "      <td>NaN</td>\n",
       "      <td>Anonymous caller repts. sighting 4 ufo&amp;apos;s ...</td>\n",
       "    </tr>\n",
       "  </tbody>\n",
       "</table>\n",
       "</div>"
      ],
      "text/plain": [
       "  sighted_at reported_at        location duration shape  \\\n",
       "0 1995-10-09  1995-10-09   Iowa City, IA      NaN   NaN   \n",
       "1 1995-10-10  1995-10-11   Milwaukee, WI   2 min.   NaN   \n",
       "2 1995-01-01  1995-01-03     Shelton, WA      NaN   NaN   \n",
       "3 1995-05-10  1995-05-10    Columbia, MO   2 min.   NaN   \n",
       "4 1995-06-11  1995-06-14     Seattle, WA      NaN   NaN   \n",
       "\n",
       "                                         description  \n",
       "0  Man repts. witnessing &quot;flash, followed by...  \n",
       "1  Man  on Hwy 43 SW of Milwaukee sees large, bri...  \n",
       "2  Telephoned Report:CA woman visiting daughter w...  \n",
       "3  Man repts. son&apos;s bizarre sighting of smal...  \n",
       "4  Anonymous caller repts. sighting 4 ufo&apos;s ...  "
      ]
     },
     "execution_count": 2,
     "metadata": {},
     "output_type": "execute_result"
    }
   ],
   "source": [
    "df = load_data()\n",
    "df.head()"
   ]
  },
  {
   "cell_type": "code",
   "execution_count": 3,
   "metadata": {},
   "outputs": [
    {
     "data": {
      "text/plain": [
       "(61067, 6)"
      ]
     },
     "execution_count": 3,
     "metadata": {},
     "output_type": "execute_result"
    }
   ],
   "source": [
    "df.shape"
   ]
  }
 ],
 "metadata": {
  "kernelspec": {
   "display_name": "Python 3",
   "language": "python",
   "name": "python3"
  },
  "language_info": {
   "codemirror_mode": {
    "name": "ipython",
    "version": 3.0
   },
   "file_extension": ".py",
   "mimetype": "text/x-python",
   "name": "python",
   "nbconvert_exporter": "python",
   "pygments_lexer": "ipython3",
   "version": "3.4.3"
  }
 },
 "nbformat": 4,
 "nbformat_minor": 0
}