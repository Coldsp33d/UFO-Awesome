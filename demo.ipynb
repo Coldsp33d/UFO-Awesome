{
 "cells": [
  {
   "cell_type": "code",
   "execution_count": 57,
   "metadata": {},
   "outputs": [
    {
     "name": "stdout",
     "output_type": "stream",
     "text": [
      "The autoreload extension is already loaded. To reload it, use:\n",
      "  %reload_ext autoreload\n"
     ]
    }
   ],
   "source": [
    "%load_ext autoreload\n",
    "%autoreload 2\n",
    "\n",
    "import utils\n",
    "from utils import load_ufo_data"
   ]
  },
  {
   "cell_type": "code",
   "execution_count": 19,
   "metadata": {},
   "outputs": [
    {
     "data": {
      "text/html": [
       "<div>\n",
       "<style scoped>\n",
       "    .dataframe tbody tr th:only-of-type {\n",
       "        vertical-align: middle;\n",
       "    }\n",
       "\n",
       "    .dataframe tbody tr th {\n",
       "        vertical-align: top;\n",
       "    }\n",
       "\n",
       "    .dataframe thead th {\n",
       "        text-align: right;\n",
       "    }\n",
       "</style>\n",
       "<table border=\"1\" class=\"dataframe\">\n",
       "  <thead>\n",
       "    <tr style=\"text-align: right;\">\n",
       "      <th></th>\n",
       "      <th>sighted_at</th>\n",
       "      <th>reported_at</th>\n",
       "      <th>location</th>\n",
       "      <th>duration</th>\n",
       "      <th>shape</th>\n",
       "      <th>description</th>\n",
       "    </tr>\n",
       "  </thead>\n",
       "  <tbody>\n",
       "    <tr>\n",
       "      <th>0</th>\n",
       "      <td>1995-10-09</td>\n",
       "      <td>1995-10-09</td>\n",
       "      <td>Iowa City, IA</td>\n",
       "      <td>NaN</td>\n",
       "      <td>NaN</td>\n",
       "      <td>Man repts. witnessing &amp;quot;flash, followed by...</td>\n",
       "    </tr>\n",
       "    <tr>\n",
       "      <th>1</th>\n",
       "      <td>1995-10-10</td>\n",
       "      <td>1995-10-11</td>\n",
       "      <td>Milwaukee, WI</td>\n",
       "      <td>2 min.</td>\n",
       "      <td>NaN</td>\n",
       "      <td>Man  on Hwy 43 SW of Milwaukee sees large, bri...</td>\n",
       "    </tr>\n",
       "    <tr>\n",
       "      <th>2</th>\n",
       "      <td>1995-01-01</td>\n",
       "      <td>1995-01-03</td>\n",
       "      <td>Shelton, WA</td>\n",
       "      <td>NaN</td>\n",
       "      <td>NaN</td>\n",
       "      <td>Telephoned Report:CA woman visiting daughter w...</td>\n",
       "    </tr>\n",
       "    <tr>\n",
       "      <th>3</th>\n",
       "      <td>1995-05-10</td>\n",
       "      <td>1995-05-10</td>\n",
       "      <td>Columbia, MO</td>\n",
       "      <td>2 min.</td>\n",
       "      <td>NaN</td>\n",
       "      <td>Man repts. son&amp;apos;s bizarre sighting of smal...</td>\n",
       "    </tr>\n",
       "    <tr>\n",
       "      <th>4</th>\n",
       "      <td>1995-06-11</td>\n",
       "      <td>1995-06-14</td>\n",
       "      <td>Seattle, WA</td>\n",
       "      <td>NaN</td>\n",
       "      <td>NaN</td>\n",
       "      <td>Anonymous caller repts. sighting 4 ufo&amp;apos;s ...</td>\n",
       "    </tr>\n",
       "  </tbody>\n",
       "</table>\n",
       "</div>"
      ],
      "text/plain": [
       "  sighted_at reported_at        location duration shape  \\\n",
       "0 1995-10-09  1995-10-09   Iowa City, IA      NaN   NaN   \n",
       "1 1995-10-10  1995-10-11   Milwaukee, WI   2 min.   NaN   \n",
       "2 1995-01-01  1995-01-03     Shelton, WA      NaN   NaN   \n",
       "3 1995-05-10  1995-05-10    Columbia, MO   2 min.   NaN   \n",
       "4 1995-06-11  1995-06-14     Seattle, WA      NaN   NaN   \n",
       "\n",
       "                                         description  \n",
       "0  Man repts. witnessing &quot;flash, followed by...  \n",
       "1  Man  on Hwy 43 SW of Milwaukee sees large, bri...  \n",
       "2  Telephoned Report:CA woman visiting daughter w...  \n",
       "3  Man repts. son&apos;s bizarre sighting of smal...  \n",
       "4  Anonymous caller repts. sighting 4 ufo&apos;s ...  "
      ]
     },
     "execution_count": 19,
     "metadata": {},
     "output_type": "execute_result"
    }
   ],
   "source": [
    "df = load_ufo_data()\n",
    "df.head()"
   ]
  },
  {
   "cell_type": "code",
   "execution_count": 20,
   "metadata": {},
   "outputs": [
    {
     "data": {
      "text/plain": [
       "(61067, 6)"
      ]
     },
     "execution_count": 20,
     "metadata": {},
     "output_type": "execute_result"
    }
   ],
   "source": [
    "df.shape"
   ]
  },
  {
   "cell_type": "code",
   "execution_count": 75,
   "metadata": {},
   "outputs": [
    {
     "data": {
      "text/html": [
       "<div>\n",
       "<style scoped>\n",
       "    .dataframe tbody tr th:only-of-type {\n",
       "        vertical-align: middle;\n",
       "    }\n",
       "\n",
       "    .dataframe tbody tr th {\n",
       "        vertical-align: top;\n",
       "    }\n",
       "\n",
       "    .dataframe thead th {\n",
       "        text-align: right;\n",
       "    }\n",
       "</style>\n",
       "<table border=\"1\" class=\"dataframe\">\n",
       "  <thead>\n",
       "    <tr style=\"text-align: right;\">\n",
       "      <th></th>\n",
       "      <th>sighted_at</th>\n",
       "      <th>reported_at</th>\n",
       "      <th>location</th>\n",
       "      <th>duration</th>\n",
       "      <th>shape</th>\n",
       "      <th>description</th>\n",
       "      <th>municipality</th>\n",
       "      <th>state</th>\n",
       "      <th>is_usa</th>\n",
       "    </tr>\n",
       "  </thead>\n",
       "  <tbody>\n",
       "    <tr>\n",
       "      <th>0</th>\n",
       "      <td>1995-10-09</td>\n",
       "      <td>1995-10-09</td>\n",
       "      <td>Iowa City, IA</td>\n",
       "      <td>NaN</td>\n",
       "      <td>NaN</td>\n",
       "      <td>Man repts. witnessing &amp;quot;flash, followed by...</td>\n",
       "      <td>iowa city</td>\n",
       "      <td>IA</td>\n",
       "      <td>True</td>\n",
       "    </tr>\n",
       "    <tr>\n",
       "      <th>1</th>\n",
       "      <td>1995-10-10</td>\n",
       "      <td>1995-10-11</td>\n",
       "      <td>Milwaukee, WI</td>\n",
       "      <td>2 min.</td>\n",
       "      <td>NaN</td>\n",
       "      <td>Man  on Hwy 43 SW of Milwaukee sees large, bri...</td>\n",
       "      <td>milwaukee</td>\n",
       "      <td>WI</td>\n",
       "      <td>True</td>\n",
       "    </tr>\n",
       "    <tr>\n",
       "      <th>2</th>\n",
       "      <td>1995-01-01</td>\n",
       "      <td>1995-01-03</td>\n",
       "      <td>Shelton, WA</td>\n",
       "      <td>NaN</td>\n",
       "      <td>NaN</td>\n",
       "      <td>Telephoned Report:CA woman visiting daughter w...</td>\n",
       "      <td>shelton</td>\n",
       "      <td>WA</td>\n",
       "      <td>True</td>\n",
       "    </tr>\n",
       "    <tr>\n",
       "      <th>3</th>\n",
       "      <td>1995-05-10</td>\n",
       "      <td>1995-05-10</td>\n",
       "      <td>Columbia, MO</td>\n",
       "      <td>2 min.</td>\n",
       "      <td>NaN</td>\n",
       "      <td>Man repts. son&amp;apos;s bizarre sighting of smal...</td>\n",
       "      <td>columbia</td>\n",
       "      <td>MO</td>\n",
       "      <td>True</td>\n",
       "    </tr>\n",
       "    <tr>\n",
       "      <th>4</th>\n",
       "      <td>1995-06-11</td>\n",
       "      <td>1995-06-14</td>\n",
       "      <td>Seattle, WA</td>\n",
       "      <td>NaN</td>\n",
       "      <td>NaN</td>\n",
       "      <td>Anonymous caller repts. sighting 4 ufo&amp;apos;s ...</td>\n",
       "      <td>seattle</td>\n",
       "      <td>WA</td>\n",
       "      <td>True</td>\n",
       "    </tr>\n",
       "  </tbody>\n",
       "</table>\n",
       "</div>"
      ],
      "text/plain": [
       "  sighted_at reported_at        location duration shape  \\\n",
       "0 1995-10-09  1995-10-09   Iowa City, IA      NaN   NaN   \n",
       "1 1995-10-10  1995-10-11   Milwaukee, WI   2 min.   NaN   \n",
       "2 1995-01-01  1995-01-03     Shelton, WA      NaN   NaN   \n",
       "3 1995-05-10  1995-05-10    Columbia, MO   2 min.   NaN   \n",
       "4 1995-06-11  1995-06-14     Seattle, WA      NaN   NaN   \n",
       "\n",
       "                                         description municipality state  \\\n",
       "0  Man repts. witnessing &quot;flash, followed by...    iowa city    IA   \n",
       "1  Man  on Hwy 43 SW of Milwaukee sees large, bri...    milwaukee    WI   \n",
       "2  Telephoned Report:CA woman visiting daughter w...      shelton    WA   \n",
       "3  Man repts. son&apos;s bizarre sighting of smal...     columbia    MO   \n",
       "4  Anonymous caller repts. sighting 4 ufo&apos;s ...      seattle    WA   \n",
       "\n",
       "   is_usa  \n",
       "0    True  \n",
       "1    True  \n",
       "2    True  \n",
       "3    True  \n",
       "4    True  "
      ]
     },
     "execution_count": 75,
     "metadata": {},
     "output_type": "execute_result"
    }
   ],
   "source": [
    "from utils import split_location\n",
    "\n",
    "v = split_location(df)\n",
    "v.head()"
   ]
  },
  {
   "cell_type": "code",
   "execution_count": 45,
   "metadata": {},
   "outputs": [
    {
     "data": {
      "text/plain": [
       "52086"
      ]
     },
     "execution_count": 45,
     "metadata": {},
     "output_type": "execute_result"
    }
   ],
   "source": [
    "v.is_usa.sum()"
   ]
  },
  {
   "cell_type": "code",
   "execution_count": 63,
   "metadata": {},
   "outputs": [
    {
     "data": {
      "text/plain": [
       "15333"
      ]
     },
     "execution_count": 63,
     "metadata": {},
     "output_type": "execute_result"
    }
   ],
   "source": [
    "unique_mun = v.loc[v.is_usa, ['municipality', 'state']].apply(', '.join, axis=1) \n",
    "unique_mun = unique_mun.unique().tolist()\n",
    "len(unique_mun)"
   ]
  },
  {
   "cell_type": "code",
   "execution_count": 66,
   "metadata": {},
   "outputs": [],
   "source": [
    "def chunks(l, n): # Ned Batchelder's `chunks` function\n",
    "    \"\"\"Yield successive n-sized chunks from l.\"\"\"\n",
    "    for i in range(0, len(l), n):\n",
    "        yield l[i:i + n]\n",
    "\n",
    "splits = list(chunks(unique_mun, len(unique_mun) // 5 ))"
   ]
  },
  {
   "cell_type": "code",
   "execution_count": 67,
   "metadata": {},
   "outputs": [],
   "source": [
    "for i, s in enumerate(splits):\n",
    "    with open('Data/mun_{}.txt'.format(i) ,'w') as f:\n",
    "        f.write('\\r\\n'.join(s))\n",
    "    "
   ]
  },
  {
   "cell_type": "code",
   "execution_count": 69,
   "metadata": {},
   "outputs": [],
   "source": [
    "from utils import save_data\n",
    "save_data(v, 'Data/ufo_awesome_modified.csv') "
   ]
  },
  {
   "cell_type": "code",
   "execution_count": 72,
   "metadata": {},
   "outputs": [],
   "source": [
    "v2 = pd.read_csv('Data/ufo_awesome_modified.csv', index_col=[0])\n",
    "v2.head()"
   ]
  },
  {
   "cell_type": "code",
   "execution_count": 73,
   "metadata": {},
   "outputs": [
    {
     "data": {
      "text/html": [
       "<div>\n",
       "<style scoped>\n",
       "    .dataframe tbody tr th:only-of-type {\n",
       "        vertical-align: middle;\n",
       "    }\n",
       "\n",
       "    .dataframe tbody tr th {\n",
       "        vertical-align: top;\n",
       "    }\n",
       "\n",
       "    .dataframe thead th {\n",
       "        text-align: right;\n",
       "    }\n",
       "</style>\n",
       "<table border=\"1\" class=\"dataframe\">\n",
       "  <thead>\n",
       "    <tr style=\"text-align: right;\">\n",
       "      <th></th>\n",
       "      <th>Unnamed: 0</th>\n",
       "      <th>sighted_at</th>\n",
       "      <th>reported_at</th>\n",
       "      <th>location</th>\n",
       "      <th>duration</th>\n",
       "      <th>shape</th>\n",
       "      <th>description</th>\n",
       "      <th>municipality</th>\n",
       "      <th>state</th>\n",
       "      <th>is_usa</th>\n",
       "    </tr>\n",
       "  </thead>\n",
       "  <tbody>\n",
       "    <tr>\n",
       "      <th>0</th>\n",
       "      <td>0</td>\n",
       "      <td>1995-10-09</td>\n",
       "      <td>1995-10-09</td>\n",
       "      <td>Iowa City, IA</td>\n",
       "      <td>NaN</td>\n",
       "      <td>NaN</td>\n",
       "      <td>Man repts. witnessing &amp;quot;flash, followed by...</td>\n",
       "      <td>iowa city</td>\n",
       "      <td>IA</td>\n",
       "      <td>True</td>\n",
       "    </tr>\n",
       "    <tr>\n",
       "      <th>1</th>\n",
       "      <td>1</td>\n",
       "      <td>1995-10-10</td>\n",
       "      <td>1995-10-11</td>\n",
       "      <td>Milwaukee, WI</td>\n",
       "      <td>2 min.</td>\n",
       "      <td>NaN</td>\n",
       "      <td>Man  on Hwy 43 SW of Milwaukee sees large, bri...</td>\n",
       "      <td>milwaukee</td>\n",
       "      <td>WI</td>\n",
       "      <td>True</td>\n",
       "    </tr>\n",
       "    <tr>\n",
       "      <th>2</th>\n",
       "      <td>2</td>\n",
       "      <td>1995-01-01</td>\n",
       "      <td>1995-01-03</td>\n",
       "      <td>Shelton, WA</td>\n",
       "      <td>NaN</td>\n",
       "      <td>NaN</td>\n",
       "      <td>Telephoned Report:CA woman visiting daughter w...</td>\n",
       "      <td>shelton</td>\n",
       "      <td>WA</td>\n",
       "      <td>True</td>\n",
       "    </tr>\n",
       "    <tr>\n",
       "      <th>3</th>\n",
       "      <td>3</td>\n",
       "      <td>1995-05-10</td>\n",
       "      <td>1995-05-10</td>\n",
       "      <td>Columbia, MO</td>\n",
       "      <td>2 min.</td>\n",
       "      <td>NaN</td>\n",
       "      <td>Man repts. son&amp;apos;s bizarre sighting of smal...</td>\n",
       "      <td>columbia</td>\n",
       "      <td>MO</td>\n",
       "      <td>True</td>\n",
       "    </tr>\n",
       "    <tr>\n",
       "      <th>4</th>\n",
       "      <td>4</td>\n",
       "      <td>1995-06-11</td>\n",
       "      <td>1995-06-14</td>\n",
       "      <td>Seattle, WA</td>\n",
       "      <td>NaN</td>\n",
       "      <td>NaN</td>\n",
       "      <td>Anonymous caller repts. sighting 4 ufo&amp;apos;s ...</td>\n",
       "      <td>seattle</td>\n",
       "      <td>WA</td>\n",
       "      <td>True</td>\n",
       "    </tr>\n",
       "  </tbody>\n",
       "</table>\n",
       "</div>"
      ],
      "text/plain": [
       "   Unnamed: 0  sighted_at reported_at        location duration shape  \\\n",
       "0           0  1995-10-09  1995-10-09   Iowa City, IA      NaN   NaN   \n",
       "1           1  1995-10-10  1995-10-11   Milwaukee, WI   2 min.   NaN   \n",
       "2           2  1995-01-01  1995-01-03     Shelton, WA      NaN   NaN   \n",
       "3           3  1995-05-10  1995-05-10    Columbia, MO   2 min.   NaN   \n",
       "4           4  1995-06-11  1995-06-14     Seattle, WA      NaN   NaN   \n",
       "\n",
       "                                         description municipality state  \\\n",
       "0  Man repts. witnessing &quot;flash, followed by...    iowa city    IA   \n",
       "1  Man  on Hwy 43 SW of Milwaukee sees large, bri...    milwaukee    WI   \n",
       "2  Telephoned Report:CA woman visiting daughter w...      shelton    WA   \n",
       "3  Man repts. son&apos;s bizarre sighting of smal...     columbia    MO   \n",
       "4  Anonymous caller repts. sighting 4 ufo&apos;s ...      seattle    WA   \n",
       "\n",
       "   is_usa  \n",
       "0    True  \n",
       "1    True  \n",
       "2    True  \n",
       "3    True  \n",
       "4    True  "
      ]
     },
     "execution_count": 73,
     "metadata": {},
     "output_type": "execute_result"
    }
   ],
   "source": []
  },
  {
   "cell_type": "code",
   "execution_count": null,
   "metadata": {},
   "outputs": [],
   "source": [
    "import pyodbc\n",
    "conn_str = (\n",
    "    r'DRIVER={Driver do Microsoft Access (*.mdb)};'\n",
    "    r'sadc_2015_state_a_m.dat;'\n",
    "    )\n",
    "cnxn = pyodbc.connect(conn_str)\n",
    "crsr = cnxn.cursor()\n",
    "for table_info in crsr.tables(tableType='TABLE'):\n",
    "    print(table_info.table_name)\n",
    "SQL = 'SELECT top 5 * FROM SADCQ;'\n",
    "rows = crsr.execute(SQL).fetchall()\n",
    "for row in rows:\n",
    "\tprint (row)\n",
    "crsr.close()\n",
    "cnxn.close()"
   ]
  }
 ],
 "metadata": {
  "kernelspec": {
   "display_name": "Python 3",
   "language": "python",
   "name": "python3"
  },
  "language_info": {
   "codemirror_mode": {
    "name": "ipython",
    "version": 3
   },
   "file_extension": ".py",
   "mimetype": "text/x-python",
   "name": "python",
   "nbconvert_exporter": "python",
   "pygments_lexer": "ipython3",
   "version": "3.4.3"
  }
 },
 "nbformat": 4,
 "nbformat_minor": 2
}
