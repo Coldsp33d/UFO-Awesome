{
 "cells": [
  {
   "cell_type": "code",
   "execution_count": 2,
   "metadata": {},
   "outputs": [],
   "source": [
    "%load_ext autoreload\n",
    "%autoreload 2\n",
    "\n",
    "from utils import load_data"
   ]
  },
  {
   "cell_type": "code",
   "execution_count": 3,
   "metadata": {},
   "outputs": [
    {
     "data": {
      "text/html": [
       "<div>\n",
       "<style scoped>\n",
       "    .dataframe tbody tr th:only-of-type {\n",
       "        vertical-align: middle;\n",
       "    }\n",
       "\n",
       "    .dataframe tbody tr th {\n",
       "        vertical-align: top;\n",
       "    }\n",
       "\n",
       "    .dataframe thead th {\n",
       "        text-align: right;\n",
       "    }\n",
       "</style>\n",
       "<table border=\"1\" class=\"dataframe\">\n",
       "  <thead>\n",
       "    <tr style=\"text-align: right;\">\n",
       "      <th></th>\n",
       "      <th>description</th>\n",
       "      <th>duration</th>\n",
       "      <th>location</th>\n",
       "      <th>reported_at</th>\n",
       "      <th>shape</th>\n",
       "      <th>sighted_at</th>\n",
       "    </tr>\n",
       "  </thead>\n",
       "  <tbody>\n",
       "    <tr>\n",
       "      <th>0</th>\n",
       "      <td>Man repts. witnessing &amp;quot;flash, followed by...</td>\n",
       "      <td></td>\n",
       "      <td>Iowa City, IA</td>\n",
       "      <td>19951009</td>\n",
       "      <td></td>\n",
       "      <td>19951009</td>\n",
       "    </tr>\n",
       "    <tr>\n",
       "      <th>1</th>\n",
       "      <td>Man  on Hwy 43 SW of Milwaukee sees large, bri...</td>\n",
       "      <td>2 min.</td>\n",
       "      <td>Milwaukee, WI</td>\n",
       "      <td>19951011</td>\n",
       "      <td></td>\n",
       "      <td>19951010</td>\n",
       "    </tr>\n",
       "    <tr>\n",
       "      <th>2</th>\n",
       "      <td>Telephoned Report:CA woman visiting daughter w...</td>\n",
       "      <td></td>\n",
       "      <td>Shelton, WA</td>\n",
       "      <td>19950103</td>\n",
       "      <td></td>\n",
       "      <td>19950101</td>\n",
       "    </tr>\n",
       "    <tr>\n",
       "      <th>3</th>\n",
       "      <td>Man repts. son&amp;apos;s bizarre sighting of smal...</td>\n",
       "      <td>2 min.</td>\n",
       "      <td>Columbia, MO</td>\n",
       "      <td>19950510</td>\n",
       "      <td></td>\n",
       "      <td>19950510</td>\n",
       "    </tr>\n",
       "    <tr>\n",
       "      <th>4</th>\n",
       "      <td>Anonymous caller repts. sighting 4 ufo&amp;apos;s ...</td>\n",
       "      <td></td>\n",
       "      <td>Seattle, WA</td>\n",
       "      <td>19950614</td>\n",
       "      <td></td>\n",
       "      <td>19950611</td>\n",
       "    </tr>\n",
       "  </tbody>\n",
       "</table>\n",
       "</div>"
      ],
      "text/plain": [
       "                                         description duration        location  \\\n",
       "0  Man repts. witnessing &quot;flash, followed by...            Iowa City, IA   \n",
       "1  Man  on Hwy 43 SW of Milwaukee sees large, bri...   2 min.   Milwaukee, WI   \n",
       "2  Telephoned Report:CA woman visiting daughter w...              Shelton, WA   \n",
       "3  Man repts. son&apos;s bizarre sighting of smal...   2 min.    Columbia, MO   \n",
       "4  Anonymous caller repts. sighting 4 ufo&apos;s ...              Seattle, WA   \n",
       "\n",
       "  reported_at shape sighted_at  \n",
       "0    19951009         19951009  \n",
       "1    19951011         19951010  \n",
       "2    19950103         19950101  \n",
       "3    19950510         19950510  \n",
       "4    19950614         19950611  "
      ]
     },
     "execution_count": 3,
     "metadata": {},
     "output_type": "execute_result"
    }
   ],
   "source": [
    "df = load_data(how='json')\n",
    "df.head()"
   ]
  },
  {
   "cell_type": "code",
   "execution_count": 4,
   "metadata": {},
   "outputs": [
    {
     "data": {
      "text/plain": [
       "(61041, 6)"
      ]
     },
     "execution_count": 4,
     "metadata": {},
     "output_type": "execute_result"
    }
   ],
   "source": [
    "df.shape"
   ]
  }
 ],
 "metadata": {
  "kernelspec": {
   "display_name": "Python 3",
   "language": "python",
   "name": "python3"
  },
  "language_info": {
   "codemirror_mode": {
    "name": "ipython",
    "version": 3
   },
   "file_extension": ".py",
   "mimetype": "text/x-python",
   "name": "python",
   "nbconvert_exporter": "python",
   "pygments_lexer": "ipython3",
   "version": "3.4.3"
  }
 },
 "nbformat": 4,
 "nbformat_minor": 2
}
